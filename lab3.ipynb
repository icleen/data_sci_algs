{
 "cells": [
  {
   "cell_type": "code",
   "execution_count": 2,
   "metadata": {
    "collapsed": true
   },
   "outputs": [],
   "source": [
    "import matplotlib.pyplot as plt\n",
    "import numpy as np"
   ]
  },
  {
   "cell_type": "code",
   "execution_count": 3,
   "metadata": {
    "collapsed": true
   },
   "outputs": [],
   "source": [
    "import scipy.io\n",
    " \n",
    "train_mat = scipy.io.loadmat('data/mnist_train.mat')\n",
    "train_data = train_mat['images']\n",
    "train_labels = train_mat['labels']\n",
    " \n",
    "test_mat = scipy.io.loadmat('data/mnist_test.mat')\n",
    "test_data = test_mat['t10k_images']\n",
    "test_labels = test_mat['t10k_labels']"
   ]
  },
  {
   "cell_type": "code",
   "execution_count": 4,
   "metadata": {},
   "outputs": [
    {
     "name": "stdout",
     "output_type": "stream",
     "text": [
      "(784, 60000)\n"
     ]
    }
   ],
   "source": [
    "K = train_data.shape[0]\n",
    "N = train_data.shape[1]\n",
    "print train_data.shape\n",
    "# each column in the matrix is the set of values for an instance"
   ]
  },
  {
   "cell_type": "code",
   "execution_count": 5,
   "metadata": {},
   "outputs": [
    {
     "name": "stdout",
     "output_type": "stream",
     "text": [
      "(10, 784)\n"
     ]
    }
   ],
   "source": [
    "avgs = []\n",
    "for i in range(10):\n",
    "    vals = [j for j in range(len(train_labels)) if train_labels[j][0] == i]\n",
    "    vals_mat = np.array([train_data[:,j] for j in vals])\n",
    "    vals_avg = np.mean(vals_mat, axis=0)\n",
    "    avgs += [vals_avg]\n",
    "    \n",
    "avgs = np.array(avgs)\n",
    "print avgs.shape"
   ]
  },
  {
   "cell_type": "code",
   "execution_count": 6,
   "metadata": {},
   "outputs": [
    {
     "data": {
      "image/png": "[encoded data removed]",
      "text/plain": [
       "<matplotlib.figure.Figure at 0x7f90cc4a4390>"
      ]
     },
     "metadata": {},
     "output_type": "display_data"
    }
   ],
   "source": [
    "fig, ax_lst = plt.subplots(1, 10, figsize=(28, 28))\n",
    "\n",
    "for i, avg in enumerate(avgs):\n",
    "    ax_lst[i].imshow( avg.reshape(28,28).T, interpolation='nearest', cmap=\"gray\")\n",
    "    \n",
    "plt.show()"
   ]
  },
  {
   "cell_type": "code",
   "execution_count": 7,
   "metadata": {},
   "outputs": [
    {
     "name": "stdout",
     "output_type": "stream",
     "text": [
      "(10, 10000)\n",
      "(10000,)\n"
     ]
    }
   ],
   "source": [
    "prob = []\n",
    "for i in range(len(avgs)):\n",
    "    diff = avgs[i:i+1].T - test_data\n",
    "    prob += [np.exp( -0.5 * np.sum( diff * diff, axis=0 ) )]\n",
    "    \n",
    "prob = np.array(prob)\n",
    "print prob.shape\n",
    "predictions = np.argmax(prob, axis=0)\n",
    "print predictions.shape"
   ]
  },
  {
   "cell_type": "code",
   "execution_count": 8,
   "metadata": {},
   "outputs": [
    {
     "name": "stdout",
     "output_type": "stream",
     "text": [
      "17.97% error rate\n"
     ]
    }
   ],
   "source": [
    "count = 0\n",
    "for i, pred in enumerate(predictions):\n",
    "    if pred != test_labels[i][0]:\n",
    "        count += 1\n",
    "\n",
    "error = float(count) / float(test_labels.shape[0])\n",
    "print str(error * 100) + '% error rate'"
   ]
  },
  {
   "cell_type": "code",
   "execution_count": 10,
   "metadata": {},
   "outputs": [
    {
     "name": "stdout",
     "output_type": "stream",
     "text": [
      "[[ 878    0   19    4    1   11   18    2   14   15]\n",
      " [   0 1092   71   24   22   63   27   59   39   22]\n",
      " [   7   10  781   25    2    2   22   22   11    7]\n",
      " [   2    3   33  814    0  118    0    1   83   10]\n",
      " [   2    0   31    1  811   21   31   20   12   83]\n",
      " [  58    7    3   49    3  612   32    2   36   12]\n",
      " [  25    3   23    8   16   27  827    0   13    1]\n",
      " [   1    0   18   15    1   10    0  856   10   27]\n",
      " [   7   20   50   58   10   13    1   13  718   18]\n",
      " [   0    0    3   12  116   15    0   53   38  814]]\n"
     ]
    },
    {
     "data": {
      "image/png": "[encoded data removed]",
      "text/plain": [
       "<matplotlib.figure.Figure at 0x7f90cfdc1690>"
      ]
     },
     "metadata": {},
     "output_type": "display_data"
    }
   ],
   "source": [
    "confusion = []\n",
    "for k in range(10):\n",
    "    vals = [test_labels[i,0] for i, p in enumerate(predictions) if p == k]\n",
    "    confusion += [np.bincount(vals, minlength=10)]\n",
    "    \n",
    "confusion = np.array(confusion)\n",
    "# print confusion.shape\n",
    "print confusion\n",
    "\n",
    "plt.title('Confusion Matrix using class means')\n",
    "plt.xlabel('Labeled Classes')\n",
    "plt.ylabel('Predicted Classes')\n",
    "plt.imshow( confusion )\n",
    "plt.show()"
   ]
  },
  {
   "cell_type": "code",
   "execution_count": 9,
   "metadata": {
    "collapsed": true
   },
   "outputs": [],
   "source": [
    "classes = []\n",
    "for i in range(10):\n",
    "    classes += [np.array([train_data[:,j] for j in range(len(train_labels)) if train_labels[j][0] == i]).T]"
   ]
  },
  {
   "cell_type": "code",
   "execution_count": 10,
   "metadata": {},
   "outputs": [
    {
     "name": "stdout",
     "output_type": "stream",
     "text": [
      "(1000, 10)\n"
     ]
    }
   ],
   "source": [
    "probs = []\n",
    "tests = test_data[:,:1000]\n",
    "for k in range(tests.shape[1]):\n",
    "    prob = []\n",
    "    for arr in classes:\n",
    "        diff = tests[:,k:k+1] - arr\n",
    "        prob += [np.mean( np.exp( -0.5 * np.sum( diff * diff, axis=0 ) ) )]\n",
    "    probs += [np.array(prob)]\n",
    "        \n",
    "probs = np.array(probs)\n",
    "print probs.shape"
   ]
  },
  {
   "cell_type": "code",
   "execution_count": 11,
   "metadata": {
    "scrolled": true
   },
   "outputs": [
    {
     "name": "stdout",
     "output_type": "stream",
     "text": [
      "(1000,)\n"
     ]
    }
   ],
   "source": [
    "preds = np.argmax(probs, axis=1)\n",
    "print preds.shape"
   ]
  },
  {
   "cell_type": "code",
   "execution_count": 13,
   "metadata": {},
   "outputs": [
    {
     "name": "stdout",
     "output_type": "stream",
     "text": [
      "4.0% error rate\n"
     ]
    }
   ],
   "source": [
    "count = 0\n",
    "for i, pred in enumerate(preds):\n",
    "    if pred != test_labels[i][0]:\n",
    "        count += 1\n",
    "\n",
    "error = float(count) / float(len(preds))\n",
    "print str(error * 100) + '% error rate'"
   ]
  },
  {
   "cell_type": "code",
   "execution_count": 14,
   "metadata": {},
   "outputs": [
    {
     "data": {
      "text/plain": [
       "<matplotlib.image.AxesImage at 0x7fd61ab05ed0>"
      ]
     },
     "execution_count": 14,
     "metadata": {},
     "output_type": "execute_result"
    },
    {
     "data": {
      "image/png": "[encoded data removed]",
      "text/plain": [
       "<matplotlib.figure.Figure at 0x7fd61ac1e710>"
      ]
     },
     "metadata": {},
     "output_type": "display_data"
    }
   ],
   "source": [
    "confusion = []\n",
    "for k in range(10):\n",
    "    vals = [test_labels[i,0] for i, p in enumerate(preds) if p == k]\n",
    "    confusion += [np.bincount(vals, minlength=10)]\n",
    "    \n",
    "confusion = np.array(confusion)\n",
    "# print confusion.shape\n",
    "# print confusion\n",
    "\n",
    "plt.title('Confusion Matrix Using Full Kernel Density Estimater')\n",
    "plt.xlabel('Labeled Classes')\n",
    "plt.ylabel('Predicted Classes')\n",
    "plt.imshow( confusion )"
   ]
  },
  {
   "cell_type": "code",
   "execution_count": null,
   "metadata": {
    "collapsed": true
   },
   "outputs": [],
   "source": []
  }
 ],
 "metadata": {
  "kernelspec": {
   "display_name": "Python 2",
   "language": "python",
   "name": "python2"
  },
  "language_info": {
   "codemirror_mode": {
    "name": "ipython",
    "version": 2
   },
   "file_extension": ".py",
   "mimetype": "text/x-python",
   "name": "python",
   "nbconvert_exporter": "python",
   "pygments_lexer": "ipython2",
   "version": "2.7.14"
  }
 },
 "nbformat": 4,
 "nbformat_minor": 2
}
