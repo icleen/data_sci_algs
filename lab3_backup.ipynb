{
 "cells": [
  {
   "cell_type": "code",
   "execution_count": 1,
   "metadata": {
    "collapsed": true
   },
   "outputs": [],
   "source": [
    "import matplotlib.pyplot as plt\n",
    "import numpy as np"
   ]
  },
  {
   "cell_type": "code",
   "execution_count": 2,
   "metadata": {
    "collapsed": true
   },
   "outputs": [],
   "source": [
    "import scipy.io\n",
    " \n",
    "train_mat = scipy.io.loadmat('data/mnist_train.mat')\n",
    "train_data = train_mat['images']\n",
    "train_labels = train_mat['labels']\n",
    " \n",
    "test_mat = scipy.io.loadmat('data/mnist_test.mat')\n",
    "test_data = test_mat['t10k_images']\n",
    "test_labels = test_mat['t10k_labels']"
   ]
  },
  {
   "cell_type": "code",
   "execution_count": 3,
   "metadata": {},
   "outputs": [
    {
     "name": "stdout",
     "output_type": "stream",
     "text": [
      "(784, 60000)\n"
     ]
    }
   ],
   "source": [
    "K = train_data.shape[0]\n",
    "N = train_data.shape[1]\n",
    "print train_data.shape\n",
    "# each column in the matrix is the set of values for an instance"
   ]
  },
  {
   "cell_type": "code",
   "execution_count": 29,
   "metadata": {
    "collapsed": true
   },
   "outputs": [],
   "source": [
    "zeros = [i for i in range(len(train_labels)) if train_labels[i][0] == 0]"
   ]
  },
  {
   "cell_type": "code",
   "execution_count": 30,
   "metadata": {},
   "outputs": [
    {
     "name": "stdout",
     "output_type": "stream",
     "text": [
      "5923\n",
      "1\n",
      "[ 0.  0.  0. ...,  0.  0.  0.]\n",
      "<type 'numpy.ndarray'>\n",
      "(5923, 784)\n",
      "(1, 784)\n"
     ]
    },
    {
     "data": {
      "text/plain": [
       "<matplotlib.image.AxesImage at 0x7f2103063810>"
      ]
     },
     "execution_count": 30,
     "metadata": {},
     "output_type": "execute_result"
    },
    {
     "data": {
      "image/png": "[encoded data removed]",
      "text/plain": [
       "<matplotlib.figure.Figure at 0x7f214c418890>"
      ]
     },
     "metadata": {},
     "output_type": "display_data"
    }
   ],
   "source": [
    "print len(zeros)\n",
    "print zeros[0]\n",
    "print train_data[zeros[0]]\n",
    "zero_mat = np.array([train_data[:,i] for i in zeros])\n",
    "print type(zero_mat)\n",
    "print zero_mat.shape\n",
    "zero_avg = np.mean(zero_mat, axis=0, keepdims=True)\n",
    "print zero_avg.shape\n",
    "plt.imshow( zero_avg.reshape(28,28).T, interpolation='nearest', cmap=\"gray\")"
   ]
  },
  {
   "cell_type": "code",
   "execution_count": 4,
   "metadata": {},
   "outputs": [
    {
     "name": "stdout",
     "output_type": "stream",
     "text": [
      "(10, 784)\n"
     ]
    }
   ],
   "source": [
    "avgs = []\n",
    "for i in range(10):\n",
    "    vals = [j for j in range(len(train_labels)) if train_labels[j][0] == i]\n",
    "    vals_mat = np.array([train_data[:,j] for j in vals])\n",
    "    vals_avg = np.mean(vals_mat, axis=0)\n",
    "    avgs += [vals_avg]\n",
    "    \n",
    "avgs = np.array(avgs)\n",
    "print avgs.shape"
   ]
  },
  {
   "cell_type": "code",
   "execution_count": 5,
   "metadata": {},
   "outputs": [
    {
     "data": {
      "image/png": "[encoded data removed]",
      "text/plain": [
       "<matplotlib.figure.Figure at 0x7fd63f391810>"
      ]
     },
     "metadata": {},
     "output_type": "display_data"
    }
   ],
   "source": [
    "fig, ax_lst = plt.subplots(1, 10, figsize=(28, 28))\n",
    "\n",
    "for i, avg in enumerate(avgs):\n",
    "    ax_lst[i].imshow( avg.reshape(28,28).T, interpolation='nearest', cmap=\"gray\")\n",
    "    \n",
    "plt.show()"
   ]
  },
  {
   "cell_type": "code",
   "execution_count": 19,
   "metadata": {},
   "outputs": [
    {
     "name": "stdout",
     "output_type": "stream",
     "text": [
      "(784, 10000)\n"
     ]
    }
   ],
   "source": [
    "sigma = np.eye( K )\n",
    "\n",
    "print test_data.shape"
   ]
  },
  {
   "cell_type": "code",
   "execution_count": 6,
   "metadata": {},
   "outputs": [
    {
     "name": "stdout",
     "output_type": "stream",
     "text": [
      "(10, 10000)\n",
      "(10000,)\n"
     ]
    }
   ],
   "source": [
    "prob = []\n",
    "for i in range(len(avgs)):\n",
    "    diff = avgs[i:i+1].T - test_data\n",
    "    prob += [np.exp( -0.5 * np.sum( diff * diff, axis=0 ) )]\n",
    "    \n",
    "prob = np.array(prob)\n",
    "print prob.shape\n",
    "predictions = np.argmax(prob, axis=0)\n",
    "print predictions.shape"
   ]
  },
  {
   "cell_type": "code",
   "execution_count": 7,
   "metadata": {},
   "outputs": [
    {
     "name": "stdout",
     "output_type": "stream",
     "text": [
      "17.97% error rate\n"
     ]
    }
   ],
   "source": [
    "count = 0\n",
    "for i, pred in enumerate(predictions):\n",
    "    if pred != test_labels[i][0]:\n",
    "        count += 1\n",
    "\n",
    "error = float(count) / float(test_labels.shape[0])\n",
    "print str(error * 100) + '% error rate'"
   ]
  },
  {
   "cell_type": "code",
   "execution_count": 8,
   "metadata": {},
   "outputs": [
    {
     "data": {
      "text/plain": [
       "<matplotlib.image.AxesImage at 0x7fd61abd5950>"
      ]
     },
     "execution_count": 8,
     "metadata": {},
     "output_type": "execute_result"
    },
    {
     "data": {
      "image/png": "[encoded data removed]",
      "text/plain": [
       "<matplotlib.figure.Figure at 0x7fd619c14e50>"
      ]
     },
     "metadata": {},
     "output_type": "display_data"
    }
   ],
   "source": [
    "confusion = []\n",
    "for k in range(10):\n",
    "    vals = [test_labels[i,0] for i, p in enumerate(predictions) if p == k]\n",
    "    confusion += [np.bincount(vals, minlength=10)]\n",
    "    \n",
    "confusion = np.array(confusion)\n",
    "# print confusion.shape\n",
    "# print confusion\n",
    "\n",
    "plt.title('Confusion Matrix using class means')\n",
    "plt.xlabel('Labeled Classes')\n",
    "plt.ylabel('Predicted Classes')\n",
    "plt.imshow( confusion )"
   ]
  },
  {
   "cell_type": "code",
   "execution_count": 9,
   "metadata": {},
   "outputs": [],
   "source": [
    "classes = []\n",
    "for i in range(10):\n",
    "    classes += [np.array([train_data[:,j] for j in range(len(train_labels)) if train_labels[j][0] == i]).T]"
   ]
  },
  {
   "cell_type": "code",
   "execution_count": 105,
   "metadata": {},
   "outputs": [
    {
     "name": "stdout",
     "output_type": "stream",
     "text": [
      "(10, 100)\n"
     ]
    }
   ],
   "source": [
    "probs = []\n",
    "tests = test_data[:,:100]\n",
    "for arr in classes:\n",
    "    prob = []\n",
    "    for k in range(tests.shape[1]):\n",
    "        diff = tests[:,k:k+1] - arr\n",
    "        prob += [np.mean( np.exp( -0.5 * np.sum( diff * diff, axis=0 ) ) )]\n",
    "    \n",
    "    probs += [np.array(prob)]\n",
    "        \n",
    "probs = np.array(probs)\n",
    "print probs.shape"
   ]
  },
  {
   "cell_type": "code",
   "execution_count": null,
   "metadata": {},
   "outputs": [],
   "source": [
    "probs = []\n",
    "tests = test_data[:,:1000]\n",
    "for k in range(tests.shape[1]):\n",
    "    prob = []\n",
    "    for arr in classes:\n",
    "        diff = tests[:,k:k+1] - arr\n",
    "        prob += [np.mean( np.exp( -0.5 * np.sum( diff * diff, axis=0 ) ) )]\n",
    "    probs += [np.array(prob)]\n",
    "        \n",
    "probs = np.array(probs)\n",
    "print probs.shape"
   ]
  },
  {
   "cell_type": "code",
   "execution_count": null,
   "metadata": {
    "scrolled": true
   },
   "outputs": [],
   "source": [
    "preds = np.argmax(probs, axis=1)\n",
    "print preds.shape"
   ]
  },
  {
   "cell_type": "code",
   "execution_count": null,
   "metadata": {},
   "outputs": [],
   "source": [
    "print preds[:10]\n",
    "print test_labels[:10,0]"
   ]
  },
  {
   "cell_type": "code",
   "execution_count": null,
   "metadata": {},
   "outputs": [],
   "source": [
    "count = 0\n",
    "for i, pred in enumerate(preds):\n",
    "    if pred != test_labels[i][0]:\n",
    "        count += 1\n",
    "\n",
    "error = float(count) / float(len(preds))\n",
    "print str(error * 100) + '% error rate'"
   ]
  },
  {
   "cell_type": "code",
   "execution_count": null,
   "metadata": {},
   "outputs": [],
   "source": [
    "confusion = []\n",
    "for k in range(10):\n",
    "    vals = [test_labels[i,0] for i, p in enumerate(preds) if p == k]\n",
    "    confusion += [np.bincount(vals, minlength=10)]\n",
    "    \n",
    "confusion = np.array(confusion)\n",
    "# print confusion.shape\n",
    "# print confusion\n",
    "\n",
    "plt.title('Confusion Matrix Using Full Kernel Density Estimater')\n",
    "plt.xlabel('Labeled Classes')\n",
    "plt.ylabel('Predicted Classes')\n",
    "plt.imshow( confusion )"
   ]
  },
  {
   "cell_type": "code",
   "execution_count": null,
   "metadata": {
    "collapsed": true
   },
   "outputs": [],
   "source": []
  }
 ],
 "metadata": {
  "kernelspec": {
   "display_name": "Python 2",
   "language": "python",
   "name": "python2"
  },
  "language_info": {
   "codemirror_mode": {
    "name": "ipython",
    "version": 2
   },
   "file_extension": ".py",
   "mimetype": "text/x-python",
   "name": "python",
   "nbconvert_exporter": "python",
   "pygments_lexer": "ipython2",
   "version": "2.7.14"
  }
 },
 "nbformat": 4,
 "nbformat_minor": 2
}
